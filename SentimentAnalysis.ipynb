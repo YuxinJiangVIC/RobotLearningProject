{
  "nbformat": 4,
  "nbformat_minor": 0,
  "metadata": {
    "colab": {
      "provenance": []
    },
    "kernelspec": {
      "name": "python3",
      "display_name": "Python 3"
    },
    "language_info": {
      "name": "python"
    }
  },
  "cells": [
    {
      "cell_type": "code",
      "execution_count": null,
      "metadata": {
        "id": "A1KbbFrfpq91"
      },
      "outputs": [],
      "source": [
        "import numpy as np # linear algebra\n",
        "import pandas as pd # data processing, CSV file I/O (e.g. pd.read_csv)\n",
        "import matplotlib.pyplot as plt\n",
        "import seaborn as sns"
      ]
    },
    {
      "cell_type": "code",
      "source": [
        "df=pd.read_csv('/content/dataset/IMDB.csv')\n",
        "df.head()"
      ],
      "metadata": {
        "id": "FPZLx8RQp1wA"
      },
      "execution_count": null,
      "outputs": []
    },
    {
      "cell_type": "code",
      "source": [
        "df['review'][0]"
      ],
      "metadata": {
        "id": "jKf-PkJjqLQI"
      },
      "execution_count": null,
      "outputs": []
    },
    {
      "cell_type": "code",
      "source": [
        "# pre-processing the dataset\n",
        "#df=df.sample(10000)\n",
        "#df.shape\n",
        "#df.info()\n",
        "\n",
        "df['sentiment'].replace({'positive':1, 'negative':0},inplace=True)\n",
        "\n",
        "# Cleaning the dataset\n",
        "import re\n",
        "clean=re.compile('<.*?>')\n",
        "re.sub(clean,'',df.iloc[2].review) # remove symbols\n",
        "\n",
        "def clean_html(text):\n",
        "    clean=re.compile('<.*?>')\n",
        "    return re.sub(clean, '', text)\n",
        "df['review']=df['review'].apply(clean_html) # remove html tag\n",
        "\n",
        "\n",
        "import nltk\n",
        "from nltk.corpus import stopwords\n",
        "import string\n",
        "from nltk.stem.porter import PorterStemmer\n",
        "porter=PorterStemmer()\n",
        "\n",
        "# remove stop words\n",
        "\n",
        "def transform_review(review):\n",
        "    review = review.lower()\n",
        "    review = nltk.word_tokenize(review)\n",
        "    \n",
        "    y = []\n",
        "    for i in review:\n",
        "        if i.isalnum():\n",
        "            y.append(i) \n",
        "    review = y[:]\n",
        "    y.clear()\n",
        "    \n",
        "    for i in review:\n",
        "        if i not in stopwords.words('english') and i not in string.punctuation:\n",
        "            y.append(i)           \n",
        "    review = y[:]\n",
        "    y.clear()\n",
        "\n",
        "    for i in review:\n",
        "        y.append(ps.stem(i))\n",
        "              \n",
        "    return \" \".join(y)\n",
        "\n",
        "df['review'] = df['review'].apply(transform_review)"
      ],
      "metadata": {
        "id": "5z2LyCLMqg4D"
      },
      "execution_count": null,
      "outputs": []
    },
    {
      "cell_type": "code",
      "source": [
        "# tokenization\n",
        "# Using wordcloud\n",
        "\n",
        "from wordcloud import WordCloud\n",
        "wc = WordCloud(width=500,height=500,min_font_size=10,background_color='white')\n",
        "\n",
        "positive_corpus = []\n",
        "for msg in df[df['sentiment'] == 1]['review'].tolist():\n",
        "    for word in msg.split():\n",
        "        positive_corpus.append(word)       \n"
      ],
      "metadata": {
        "id": "lZRAJgdQr-rP"
      },
      "execution_count": null,
      "outputs": []
    },
    {
      "cell_type": "code",
      "source": [
        "from collections import Counter\n",
        "sns.barplot(pd.DataFrame(Counter(positive_corpus).most_common(30))[0],pd.DataFrame(Counter(positive_corpus).most_common(30))[1])\n",
        "plt.xticks(rotation='vertical')\n",
        "plt.show()"
      ],
      "metadata": {
        "id": "0PJin56IseNR"
      },
      "execution_count": null,
      "outputs": []
    },
    {
      "cell_type": "code",
      "source": [
        "# vectorizing\n",
        "from sklearn.feature_extraction.text import TfidfVectorizer\n",
        "tfidf = TfidfVectorizer(max_features=4500)\n",
        "X=tfidf.fit_transform(df['review']).toarray()\n",
        "\n",
        "y=df.iloc[:,-1].values"
      ],
      "metadata": {
        "id": "AW2duolds_Zs"
      },
      "execution_count": null,
      "outputs": []
    },
    {
      "cell_type": "code",
      "source": [
        "# Split dataset for training and testing\n",
        "from  sklearn.model_selection import train_test_split\n",
        "X_train, X_test, y_train, y_test= train_test_split(X,y,test_size=0.2) # this size can be changed for different portions of the training data\n",
        "X_train.shape\n",
        "X_test.shape\n",
        "y_train.shape\n",
        "y_test.shape"
      ],
      "metadata": {
        "id": "qm1frkostLbS"
      },
      "execution_count": null,
      "outputs": []
    },
    {
      "cell_type": "code",
      "source": [
        "# navie bay model\n",
        "from sklearn.naive_bayes import GaussianNB, MultinomialNB, BernoulliNB\n",
        "from sklearn.metrics import accuracy_score\n",
        "cl1=GaussianNB()\n",
        "cl2=MultinomialNB()\n",
        "cl3=BernoulliNB()\n",
        "cl1.fit(X_train,y_train)\n",
        "cl2.fit(X_train,y_train)\n",
        "cl3.fit(X_train,y_train)\n",
        "\n",
        "ypre1=clf1.predict(X_test)\n",
        "ypre2=clf2.predict(X_test)\n",
        "ypre3=clf3.predict(X_test)\n",
        "\n",
        "from sklearn.metrics import accuracy_score\n",
        "print(\"Gausssian\",accuracy_score(y_test,y_pred1))\n",
        "print(\"Multinomial\",accuracy_score(y_test,y_pred2))\n",
        "print(\"Bernaulli\",accuracy_score(y_test,y_pred3))\n",
        "\n",
        "# save results\n",
        "import pickle\n",
        "pickle.dump(tfidf,open('vectorizer1.pkl','wb'))\n",
        "pickle.dump(clf2,open('model.pkl','wb'))"
      ],
      "metadata": {
        "id": "rFogSUt4tpbW"
      },
      "execution_count": null,
      "outputs": []
    }
  ]
}